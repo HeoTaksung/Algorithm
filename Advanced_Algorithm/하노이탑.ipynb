{
 "cells": [
  {
   "cell_type": "code",
   "execution_count": 7,
   "metadata": {},
   "outputs": [
    {
     "name": "stdout",
     "output_type": "stream",
     "text": [
      "n = 4\n",
      "1 -> 2\n",
      "1 -> 3\n",
      "2 -> 3\n",
      "1 -> 2\n",
      "3 -> 1\n",
      "3 -> 2\n",
      "1 -> 2\n",
      "1 -> 3\n",
      "2 -> 3\n",
      "2 -> 1\n",
      "3 -> 1\n",
      "2 -> 3\n",
      "1 -> 2\n",
      "1 -> 3\n",
      "2 -> 3\n"
     ]
    }
   ],
   "source": [
    "def hanoi(n, start, end, etc):   #원반 개수, 원반들의 시작 기둥, 원반들의 도착 기둥. 원반들의 보조 기둥\n",
    "\n",
    "    if n == 1: # 원반 한 개가 남아 있다면 그냥 옮겨주면 끝\n",
    "        print(start, \"->\", end)\n",
    "        return\n",
    "\n",
    "    hanoi(n-1, start, etc, end) # 원반 n-1개를 목표 기둥으로 이동(end를 보조 기둥으로)\n",
    "\n",
    "    print(start, \"->\", end)     # 가장 큰 원반을 목적지로 이동\n",
    "\n",
    "    hanoi(n-1, etc, end, start)   # etc에 있는 원반 n-1개를 목적지로 이동(start를 보조 기둥으로)\n",
    "\n",
    "\n",
    "print(\"n = 4\")\n",
    "hanoi(4, 1, 3, 2) # 원반 네 개를 1번 기둥에서 3번 기둥으로 이동(2번을 보조 기둥으로)"
   ]
  },
  {
   "cell_type": "code",
   "execution_count": null,
   "metadata": {},
   "outputs": [],
   "source": []
  }
 ],
 "metadata": {
  "kernelspec": {
   "display_name": "Python 3",
   "language": "python",
   "name": "python3"
  },
  "language_info": {
   "codemirror_mode": {
    "name": "ipython",
    "version": 3
   },
   "file_extension": ".py",
   "mimetype": "text/x-python",
   "name": "python",
   "nbconvert_exporter": "python",
   "pygments_lexer": "ipython3",
   "version": "3.6.8"
  }
 },
 "nbformat": 4,
 "nbformat_minor": 2
}
