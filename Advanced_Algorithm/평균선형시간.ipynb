{
 "cells": [
  {
   "cell_type": "code",
   "execution_count": 55,
   "metadata": {},
   "outputs": [
    {
     "name": "stdout",
     "output_type": "stream",
     "text": [
      "3\n",
      "[8, 11, 3, 15, 31, 48, 20, 29, 65, 73]\n"
     ]
    }
   ],
   "source": [
    "def partition(A, p, r):\n",
    "\n",
    "    x = A[r] \n",
    "    Index = p \n",
    "\n",
    "    for i in range(p, len(A)):\n",
    "        if A[i] < x:\n",
    "            A[i], A[Index] = A[Index], A[i]\n",
    "            Index += 1\n",
    "    A[Index], A[r] = A[r], A[Index]\n",
    "\n",
    "    return Index\n",
    "\n",
    "li = [31,8,48,73,11,3,20,29,65,15]\n",
    "\n",
    "print(partition(li,0,len(li)-1))\n",
    "print(li)"
   ]
  },
  {
   "cell_type": "code",
   "execution_count": 56,
   "metadata": {},
   "outputs": [],
   "source": [
    "def select(A, p, r, i):\n",
    "    if (p==r):\n",
    "        return A[p]\n",
    "    q = partition(A,p,r)\n",
    "    k = q-p+1\n",
    "    if i < k:\n",
    "        return select(A,p,q-1,i)\n",
    "    elif i == k:\n",
    "        return A[q]\n",
    "    else:\n",
    "        return select(A,q+1,r,i-k)"
   ]
  },
  {
   "cell_type": "code",
   "execution_count": 65,
   "metadata": {},
   "outputs": [
    {
     "name": "stdout",
     "output_type": "stream",
     "text": [
      "time : 1.4205036163330078\n",
      "3 번째로 큰 수 :  11\n"
     ]
    }
   ],
   "source": [
    "import time\n",
    "\n",
    "start = time.time()\n",
    "\n",
    "A = [31,8,48,73,11,3,20,29,65,15]\n",
    "\n",
    "number = 3\n",
    "\n",
    "for i in range(100000):\n",
    "    select(A,0,len(A)-1,number)\n",
    "\n",
    "\n",
    "print(\"time :\", time.time() - start)\n",
    "\n",
    "print(number,'번째로 큰 수 : ',select(A,0,len(A)-1,number))\n"
   ]
  },
  {
   "cell_type": "code",
   "execution_count": null,
   "metadata": {},
   "outputs": [],
   "source": []
  }
 ],
 "metadata": {
  "kernelspec": {
   "display_name": "Python 3",
   "language": "python",
   "name": "python3"
  },
  "language_info": {
   "codemirror_mode": {
    "name": "ipython",
    "version": 3
   },
   "file_extension": ".py",
   "mimetype": "text/x-python",
   "name": "python",
   "nbconvert_exporter": "python",
   "pygments_lexer": "ipython3",
   "version": "3.6.8"
  }
 },
 "nbformat": 4,
 "nbformat_minor": 2
}
