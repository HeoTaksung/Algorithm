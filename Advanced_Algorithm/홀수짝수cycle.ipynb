{
 "cells": [
  {
   "cell_type": "markdown",
   "metadata": {},
   "source": [
    "### prob. 2\n",
    "- 어떤 자연수 n이 주어졌을때 수열의 다음 수는 다음과 같이 결정된다.\n",
    "- n 짝수 ->  n/2\n",
    "- n 홀수 -> 3n+1\n",
    "- 이와 같은 수열은 항상 1이되는 것으로 생각되고 있다.\n",
    "- 1까지의 전체수열의 길이를 n의 cycle 길이라고 한다.\n",
    "- ex) 22 11 34 17 52 26 13 40 20 10 5 16 8 4 2 1\n",
    "\n",
    "문제> i,j가 주어졌을때 최대 cycle 길이를 구하는 함수\n",
    "\n",
    "input> i, j 두개의 정수쌍\n",
    "\n",
    "output> i, j, 최대 cycle 3개의 정수"
   ]
  },
  {
   "cell_type": "code",
   "execution_count": 1,
   "metadata": {},
   "outputs": [],
   "source": [
    "# Prob.2\n",
    "\n",
    "def cycle(n, n_list):\n",
    "    \n",
    "    n_list.append(n)\n",
    "    \n",
    "    if n == 1:\n",
    "        return n_list\n",
    "    \n",
    "    if n % 2 == 0:                           # n이 짝수일 경우 n/2을 재귀함수로 호출\n",
    "        return cycle(n//2, n_list)\n",
    "    \n",
    "    else:\n",
    "        return cycle(3*n+1, n_list)          # n이 홀수일 경우 3*n+1을 재귀함수로 호출"
   ]
  },
  {
   "cell_type": "code",
   "execution_count": 2,
   "metadata": {},
   "outputs": [],
   "source": [
    "def repeat(n, m, all_list):\n",
    "    \n",
    "    for i in range(n, m+1):\n",
    "        etc = []\n",
    "        all_list.append(cycle(i,etc))\n",
    "    return all_list"
   ]
  },
  {
   "cell_type": "code",
   "execution_count": 3,
   "metadata": {},
   "outputs": [
    {
     "name": "stdout",
     "output_type": "stream",
     "text": [
      "22 에서  33 까지의 최대 길이를 가진 수 ' 27 '  길이 :  112\n"
     ]
    }
   ],
   "source": [
    "i = 22\n",
    "j = 33\n",
    "all_list = []\n",
    "\n",
    "repeat(i,j,all_list)\n",
    "\n",
    "max_length = 0\n",
    "number = 0\n",
    "\n",
    "for a in range(len(all_list)):\n",
    "    if max_length < len(all_list[a]):\n",
    "        max_length = len(all_list[a])\n",
    "        number = all_list[a][0]\n",
    "\n",
    "print(i, \"에서 \", j, \"까지의 최대 길이를 가진 수 '\", number, \"'  길이 : \", max_length)"
   ]
  },
  {
   "cell_type": "code",
   "execution_count": null,
   "metadata": {},
   "outputs": [],
   "source": []
  }
 ],
 "metadata": {
  "kernelspec": {
   "display_name": "Python 3",
   "language": "python",
   "name": "python3"
  },
  "language_info": {
   "codemirror_mode": {
    "name": "ipython",
    "version": 3
   },
   "file_extension": ".py",
   "mimetype": "text/x-python",
   "name": "python",
   "nbconvert_exporter": "python",
   "pygments_lexer": "ipython3",
   "version": "3.6.8"
  }
 },
 "nbformat": 4,
 "nbformat_minor": 2
}
