{
 "cells": [
  {
   "cell_type": "code",
   "execution_count": 1,
   "metadata": {},
   "outputs": [
    {
     "name": "stdin",
     "output_type": "stream",
     "text": [
      " 1\n",
      " 5 3\n",
      " 4 5 6\n"
     ]
    },
    {
     "name": "stdout",
     "output_type": "stream",
     "text": [
      "2\n"
     ]
    }
   ],
   "source": [
    "test = int(input())\n",
    "\n",
    "for i in range(test):\n",
    "    k, n = map(int, input().split())\n",
    "    \n",
    "    li = list(map(int, input().split()))\n",
    "\n",
    "    sum = 0\n",
    "    for l in range(n):\n",
    "        if li[l] < k:\n",
    "            sum = sum + k - li[l]  # 최대공약수보다 값이 작으면 최대 공약수 - 해당 값 >> 최대 공약수를 맞추기 위해 +1씩 하는 횟수 카운트\n",
    "        else:\n",
    "            before = li[l] % k            # before와 after을 나누는 이유 : 최대 공약수를 나눈 나머지가 어느 값에 가까운지를 알기 위해서\n",
    "            after = k - before           # 만약 최대 공약수가 5일때 수가 7이면 before > 7%5 = 2  after > 5-2 = 3 이면 before가 횟수가 더 작으므로 before를 카운트\n",
    "            if before <= after:\n",
    "                sum = sum + before\n",
    "            else:\n",
    "                sum = sum + after\n",
    "    print(sum)"
   ]
  },
  {
   "cell_type": "code",
   "execution_count": 2,
   "metadata": {},
   "outputs": [],
   "source": [
    "# https://www.hackerearth.com/practice/algorithms/greedy/basics-of-greedy-algorithms/practice-problems/algorithm/bob-and-gcd-d6d86b3b/  해커어스 Bob And GCD"
   ]
  },
  {
   "cell_type": "code",
   "execution_count": null,
   "metadata": {},
   "outputs": [],
   "source": []
  }
 ],
 "metadata": {
  "kernelspec": {
   "display_name": "Python 3",
   "language": "python",
   "name": "python3"
  },
  "language_info": {
   "codemirror_mode": {
    "name": "ipython",
    "version": 3
   },
   "file_extension": ".py",
   "mimetype": "text/x-python",
   "name": "python",
   "nbconvert_exporter": "python",
   "pygments_lexer": "ipython3",
   "version": "3.6.8"
  }
 },
 "nbformat": 4,
 "nbformat_minor": 2
}
