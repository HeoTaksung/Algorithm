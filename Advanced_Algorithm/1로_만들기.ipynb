{
 "cells": [
  {
   "cell_type": "markdown",
   "metadata": {},
   "source": [
    "## Prob. 2\n",
    "정수 X에 사용할 수 있는 연산은 다음과 같이 세 가지 이다.<br>\n",
    ">- X가 3으로 나누어 떨어지면, 3으로 나눈다.<br>\n",
    ">- X가 2로 나누어 떨어지면, 2로 나눈다.<br>\n",
    ">- 1을 뺀다.<br>\n",
    "\n",
    "정수 N이 주어졌을 때, 위와 같은 연산 세 개를 적절히 사용해서 1을 만들려고 한다. 연산을 사용하는 횟수의 최솟값을 출력하시오.<br>\n",
    "**input**<br>\n",
    ">- 첫째 줄에 1보다 크거나 같고, $10^6$보다 작거나 같은 정수 N이 주어진다.<br>\n",
    "\n",
    "**output**<br>\n",
    ">- 첫째 줄에 연산을 하는 횟수의 최솟값을 출력한다.\n",
    "\n",
    "**example**\n",
    ">- N=10 이면 -1, 나누기 3 2번으로 3번이면 1이 되므로 3이 출력되야 한다.\n",
    ">- input 20 output 4\n",
    ">- input $10^6$ output 19"
   ]
  },
  {
   "cell_type": "code",
   "execution_count": 1,
   "metadata": {},
   "outputs": [
    {
     "name": "stdout",
     "output_type": "stream",
     "text": [
      "19\n"
     ]
    }
   ],
   "source": [
    "n = 10**6\n",
    "\n",
    "li = [0,0,1,1]\n",
    " \n",
    "for i in range(4, n+1):\n",
    "    li.append(li[i-1]+1)\n",
    " \n",
    "    if i%2 == 0:\n",
    "        li[i] = min(li[i], li[i//2]+1)\n",
    " \n",
    "    if i%3 == 0:\n",
    "        li[i] = min(li[i], li[i//3]+1)\n",
    "\n",
    "print(li[n])"
   ]
  },
  {
   "cell_type": "code",
   "execution_count": null,
   "metadata": {},
   "outputs": [],
   "source": [
    "# https://www.acmicpc.net/problem/1463 백준 1463"
   ]
  }
 ],
 "metadata": {
  "kernelspec": {
   "display_name": "Python 3",
   "language": "python",
   "name": "python3"
  },
  "language_info": {
   "codemirror_mode": {
    "name": "ipython",
    "version": 3
   },
   "file_extension": ".py",
   "mimetype": "text/x-python",
   "name": "python",
   "nbconvert_exporter": "python",
   "pygments_lexer": "ipython3",
   "version": "3.6.8"
  }
 },
 "nbformat": 4,
 "nbformat_minor": 2
}
