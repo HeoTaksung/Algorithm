{
 "cells": [
  {
   "cell_type": "markdown",
   "metadata": {},
   "source": [
    "## Prob. 1\n",
    "피보나치 수의 정의는 다음과 같다.\n",
    "- f1 := 1\n",
    "- f2 := 2\n",
    "- fn := fn-1 + fn-2 (n ≥ 3) <br>\n",
    "\n",
    "두 수 a와 b가 주어졌을 때, 구간 [a, b]에 포함되는 피보나치 수의 개수를 구하는 프로그램을 작성하시오.\n",
    "**input**<br>\n",
    "10 100<br>\n",
    "1234567890 9876543210<br>\n",
    "**output**<br>\n",
    "입력 사이의 피보나치 수의 개수<br>\n",
    "5<br>\n",
    "4<br>\n",
    "**time limit**<br>\n",
    "0.1 sec"
   ]
  },
  {
   "cell_type": "code",
   "execution_count": 1,
   "metadata": {},
   "outputs": [
    {
     "name": "stdout",
     "output_type": "stream",
     "text": [
      "4\n",
      "0.0005004405975341797\n"
     ]
    }
   ],
   "source": [
    "def fibonacci(n,m):\n",
    "    n0 = 1\n",
    "    n1 = 1\n",
    "    \n",
    "    if n == 1:\n",
    "        count = 1\n",
    "    else:\n",
    "        count = 0\n",
    "    \n",
    "    while True:\n",
    "        n2 = n1 + n0\n",
    "\n",
    "        if n <= n2 and n2 <= m:\n",
    "            count+=1\n",
    "        if n2 > m:\n",
    "            return count\n",
    "            \n",
    "        n0 = n1\n",
    "        n1 = n2\n",
    "        \n",
    "import time\n",
    "\n",
    "start = time.time()\n",
    "\n",
    "fibo_list = fibonacci(1234567890,9876543210)\n",
    "\n",
    "print(fibo_list)\n",
    "\n",
    "print(time.time()-start)"
   ]
  },
  {
   "cell_type": "code",
   "execution_count": null,
   "metadata": {},
   "outputs": [],
   "source": [
    "# https://www.acmicpc.net/problem/6571 백준 6571"
   ]
  }
 ],
 "metadata": {
  "kernelspec": {
   "display_name": "Python 3",
   "language": "python",
   "name": "python3"
  },
  "language_info": {
   "codemirror_mode": {
    "name": "ipython",
    "version": 3
   },
   "file_extension": ".py",
   "mimetype": "text/x-python",
   "name": "python",
   "nbconvert_exporter": "python",
   "pygments_lexer": "ipython3",
   "version": "3.6.8"
  }
 },
 "nbformat": 4,
 "nbformat_minor": 2
}
