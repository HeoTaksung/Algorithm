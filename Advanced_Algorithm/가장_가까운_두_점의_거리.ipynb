{
 "cells": [
  {
   "cell_type": "code",
   "execution_count": 1,
   "metadata": {},
   "outputs": [
    {
     "ename": "ValueError",
     "evalue": "invalid literal for int() with base 10: ''",
     "output_type": "error",
     "traceback": [
      "\u001b[1;31m---------------------------------------------------------------------------\u001b[0m",
      "\u001b[1;31mValueError\u001b[0m                                Traceback (most recent call last)",
      "\u001b[1;32m<ipython-input-1-9fb650c15f2c>\u001b[0m in \u001b[0;36m<module>\u001b[1;34m\u001b[0m\n\u001b[0;32m     45\u001b[0m \u001b[0mpoints\u001b[0m \u001b[1;33m=\u001b[0m \u001b[1;33m[\u001b[0m\u001b[1;33m]\u001b[0m\u001b[1;33m\u001b[0m\u001b[1;33m\u001b[0m\u001b[0m\n\u001b[0;32m     46\u001b[0m \u001b[1;33m\u001b[0m\u001b[0m\n\u001b[1;32m---> 47\u001b[1;33m \u001b[0mn\u001b[0m \u001b[1;33m=\u001b[0m \u001b[0mint\u001b[0m\u001b[1;33m(\u001b[0m\u001b[0msys\u001b[0m\u001b[1;33m.\u001b[0m\u001b[0mstdin\u001b[0m\u001b[1;33m.\u001b[0m\u001b[0mreadline\u001b[0m\u001b[1;33m(\u001b[0m\u001b[1;33m)\u001b[0m\u001b[1;33m.\u001b[0m\u001b[0mrstrip\u001b[0m\u001b[1;33m(\u001b[0m\u001b[1;33m)\u001b[0m\u001b[1;33m)\u001b[0m\u001b[1;33m\u001b[0m\u001b[1;33m\u001b[0m\u001b[0m\n\u001b[0m\u001b[0;32m     48\u001b[0m \u001b[1;33m\u001b[0m\u001b[0m\n\u001b[0;32m     49\u001b[0m \u001b[1;32mfor\u001b[0m \u001b[0mi\u001b[0m \u001b[1;32min\u001b[0m \u001b[0mrange\u001b[0m\u001b[1;33m(\u001b[0m\u001b[0mn\u001b[0m\u001b[1;33m)\u001b[0m\u001b[1;33m:\u001b[0m\u001b[1;33m\u001b[0m\u001b[1;33m\u001b[0m\u001b[0m\n",
      "\u001b[1;31mValueError\u001b[0m: invalid literal for int() with base 10: ''"
     ]
    }
   ],
   "source": [
    "# 백준에서는 PyPy3만 가능.\n",
    "# 또한 jupyter에서는 sys 사용 불가능.\n",
    "\n",
    "from functools import cmp_to_key\n",
    "import sys\n",
    "\n",
    "def dist(p1, p2):\n",
    "    return (p1[0] - p2[0])**2 + (p1[1] - p2[1])**2\n",
    "\n",
    "def compare(p1, p2):\n",
    "    if p1[0] < p2[0]:\n",
    "        return -1\n",
    "    elif p1[0] == p2[0]:\n",
    "        if p1[1] < p2[1]:\n",
    "            return -1\n",
    "        else:\n",
    "            return 1\n",
    "    else:\n",
    "        return 1\n",
    "\n",
    "def getTriangleMin(p1, p2, p3):\n",
    "    minValue = 9999999\n",
    "\n",
    "    checkList = [(p1, p2), (p2, p3), (p1, p3)]\n",
    "\n",
    "    for check in checkList:\n",
    "        tmp = dist(check[0], check[1])\n",
    "        if tmp < minValue:\n",
    "            minValue = tmp\n",
    "\n",
    "    return minValue\n",
    "\n",
    "def getSquareMin(p1, p2, p3, p4):\n",
    "    minValue = 9999999\n",
    "\n",
    "    checkList = [(p1, p2), (p2, p3), (p3, p4), (p4, p1), (p1, p3), (p2, p4)]\n",
    "\n",
    "    for check in checkList:\n",
    "        tmp = dist(check[0], check[1])\n",
    "        if tmp < minValue:\n",
    "            minValue = tmp\n",
    "\n",
    "    return minValue\n",
    "\n",
    "points = []\n",
    "\n",
    "n = int(sys.stdin.readline().rstrip())\n",
    "\n",
    "for i in range(n):\n",
    "    point = tuple(map(int, sys.stdin.readline().split()))\n",
    "    points.append(point)\n",
    "\n",
    "if n == 2:\n",
    "    print(dist(points[0], points[1]))\n",
    "elif n == 3:\n",
    "    print(getTriangleMin(points[0], points[1], points[2]))\n",
    "else:\n",
    "    points = sorted(points, key=cmp_to_key(compare))\n",
    "\n",
    "    minValue = 9999999\n",
    "\n",
    "    for i in range(n-3):\n",
    "        res = getSquareMin(points[i], points[i+1], points[i+2], points[i+3])\n",
    "\n",
    "        if res < minValue:\n",
    "            minValue = res\n",
    "\n",
    "    print(minValue)"
   ]
  },
  {
   "cell_type": "code",
   "execution_count": null,
   "metadata": {},
   "outputs": [],
   "source": [
    "# https://www.acmicpc.net/problem/5620 백준 5620"
   ]
  }
 ],
 "metadata": {
  "kernelspec": {
   "display_name": "Python 3",
   "language": "python",
   "name": "python3"
  },
  "language_info": {
   "codemirror_mode": {
    "name": "ipython",
    "version": 3
   },
   "file_extension": ".py",
   "mimetype": "text/x-python",
   "name": "python",
   "nbconvert_exporter": "python",
   "pygments_lexer": "ipython3",
   "version": "3.6.8"
  }
 },
 "nbformat": 4,
 "nbformat_minor": 2
}
