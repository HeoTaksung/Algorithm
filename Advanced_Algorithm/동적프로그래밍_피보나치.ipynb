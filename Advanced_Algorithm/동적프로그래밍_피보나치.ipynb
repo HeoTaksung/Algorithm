{
 "cells": [
  {
   "cell_type": "code",
   "execution_count": 3,
   "metadata": {},
   "outputs": [],
   "source": [
    "def dy_fib(n, li):\n",
    "    if li[n] != 0:\n",
    "        return li[n]\n",
    "    else:\n",
    "        if n == 1 or n == 2:\n",
    "            li[n] = 1\n",
    "        else:\n",
    "            li[n] = dy_fib(n-1, li) + dy_fib(n-2, li)\n",
    "        return li[n]"
   ]
  },
  {
   "cell_type": "code",
   "execution_count": 13,
   "metadata": {},
   "outputs": [
    {
     "name": "stdout",
     "output_type": "stream",
     "text": [
      "832040\n",
      "0.0010006427764892578\n"
     ]
    }
   ],
   "source": [
    "import time\n",
    "st = time.time()\n",
    "n = 30\n",
    "li = [0 for i in range(n+1)]\n",
    "print(dy_fib(n, li))\n",
    "\n",
    "print(time.time()-st)"
   ]
  },
  {
   "cell_type": "code",
   "execution_count": 3,
   "metadata": {},
   "outputs": [],
   "source": [
    "def fib(n):\n",
    "    if n == 1 or n == 2:\n",
    "        return 1\n",
    "    else:\n",
    "        return fib(n-1)+fib(n-2)"
   ]
  },
  {
   "cell_type": "code",
   "execution_count": 4,
   "metadata": {},
   "outputs": [
    {
     "name": "stdout",
     "output_type": "stream",
     "text": [
      "832040\n",
      "0.21716880798339844\n"
     ]
    }
   ],
   "source": [
    "s = time.time()\n",
    "print(fib(30))\n",
    "print(time.time()-s)"
   ]
  }
 ],
 "metadata": {
  "kernelspec": {
   "display_name": "Python 3",
   "language": "python",
   "name": "python3"
  },
  "language_info": {
   "codemirror_mode": {
    "name": "ipython",
    "version": 3
   },
   "file_extension": ".py",
   "mimetype": "text/x-python",
   "name": "python",
   "nbconvert_exporter": "python",
   "pygments_lexer": "ipython3",
   "version": "3.6.8"
  }
 },
 "nbformat": 4,
 "nbformat_minor": 2
}
