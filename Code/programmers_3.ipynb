{
 "cells": [
  {
   "cell_type": "code",
   "execution_count": 1,
   "metadata": {},
   "outputs": [],
   "source": [
    "def solution(n, lost, reserve):\n",
    "    c = 0\n",
    "    reserves = [i for i in reserve if i not in lost]\n",
    "    losts = [j for j in lost if j not in reserve]\n",
    "    \n",
    "    for i in range(len(losts)):\n",
    "        for j in range(len(reserves)):\n",
    "            if losts[i] == reserves[j]-1:\n",
    "                c += 1\n",
    "                del reserves[j]\n",
    "                break\n",
    "            elif losts[i] == reserves[j]+1:\n",
    "                c += 1\n",
    "                del reserves[j]\n",
    "                break\n",
    "                \n",
    "    return n - len(losts) + c"
   ]
  },
  {
   "cell_type": "code",
   "execution_count": 2,
   "metadata": {},
   "outputs": [
    {
     "name": "stdout",
     "output_type": "stream",
     "text": [
      "5\n",
      "4\n",
      "2\n"
     ]
    }
   ],
   "source": [
    "print(solution(5, [2, 4], [1, 3, 5]))\n",
    "print(solution(5, [2, 4], [3]))\n",
    "print(solution(3, [3], [1]))"
   ]
  },
  {
   "cell_type": "code",
   "execution_count": null,
   "metadata": {},
   "outputs": [],
   "source": []
  }
 ],
 "metadata": {
  "kernelspec": {
   "display_name": "Python 3",
   "language": "python",
   "name": "python3"
  },
  "language_info": {
   "codemirror_mode": {
    "name": "ipython",
    "version": 3
   },
   "file_extension": ".py",
   "mimetype": "text/x-python",
   "name": "python",
   "nbconvert_exporter": "python",
   "pygments_lexer": "ipython3",
   "version": "3.6.8"
  }
 },
 "nbformat": 4,
 "nbformat_minor": 2
}
