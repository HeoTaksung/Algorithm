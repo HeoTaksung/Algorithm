{
 "cells": [
  {
   "cell_type": "code",
   "execution_count": 1,
   "metadata": {},
   "outputs": [],
   "source": [
    "#소수 만들기\n",
    "def solution(nums):\n",
    "    answer = []\n",
    "    result = False\n",
    "    num = list(set(nums))\n",
    "    if len(num)>=3 and len(num)<=50:\n",
    "        for i, n in enumerate(num):\n",
    "            if n<1 or n>1000:\n",
    "                break\n",
    "            else:\n",
    "                for j in range(i+1, len(num)):\n",
    "                    for m in range(j+1, len(num)):\n",
    "                        sum = num[i]+num[j]+num[m]\n",
    "                        for k in range(2,sum):\n",
    "                            if sum%k == 0:\n",
    "                                result = False\n",
    "                                break\n",
    "                            else:\n",
    "                                result = True\n",
    "                        if result == True:\n",
    "                            answer.append(sum)\n",
    "    c = len(answer)\n",
    "    return c"
   ]
  },
  {
   "cell_type": "code",
   "execution_count": 2,
   "metadata": {},
   "outputs": [
    {
     "name": "stdout",
     "output_type": "stream",
     "text": [
      "1\n",
      "4\n"
     ]
    }
   ],
   "source": [
    "print(solution([1,2,3,4]))\n",
    "print(solution([1,2,7,6,4]))"
   ]
  },
  {
   "cell_type": "code",
   "execution_count": null,
   "metadata": {},
   "outputs": [],
   "source": []
  }
 ],
 "metadata": {
  "kernelspec": {
   "display_name": "Python 3",
   "language": "python",
   "name": "python3"
  },
  "language_info": {
   "codemirror_mode": {
    "name": "ipython",
    "version": 3
   },
   "file_extension": ".py",
   "mimetype": "text/x-python",
   "name": "python",
   "nbconvert_exporter": "python",
   "pygments_lexer": "ipython3",
   "version": "3.6.8"
  }
 },
 "nbformat": 4,
 "nbformat_minor": 2
}
