{
 "cells": [
  {
   "cell_type": "code",
   "execution_count": 1,
   "metadata": {},
   "outputs": [],
   "source": [
    "#이상한 문자 만들기\n",
    "def solution(s):\n",
    "    answer = ''\n",
    "    count = 0\n",
    "    for i in s:\n",
    "        if i == ' ':\n",
    "            answer += i\n",
    "            count = 0\n",
    "            continue\n",
    "        if count % 2 == 0:\n",
    "            answer += i.upper()\n",
    "            count += 1\n",
    "        elif count % 2 == 1:\n",
    "            answer += i.lower()\n",
    "            count += 1\n",
    "    return answer"
   ]
  },
  {
   "cell_type": "code",
   "execution_count": 2,
   "metadata": {},
   "outputs": [
    {
     "name": "stdout",
     "output_type": "stream",
     "text": [
      "TrY HeLlO WoRlD\n",
      "Sp AcE\n"
     ]
    }
   ],
   "source": [
    "print(solution(\"try hello world\"))\n",
    "print(solution(\"sp ace\"))"
   ]
  },
  {
   "cell_type": "code",
   "execution_count": null,
   "metadata": {},
   "outputs": [],
   "source": []
  }
 ],
 "metadata": {
  "kernelspec": {
   "display_name": "Python 3",
   "language": "python",
   "name": "python3"
  },
  "language_info": {
   "codemirror_mode": {
    "name": "ipython",
    "version": 3
   },
   "file_extension": ".py",
   "mimetype": "text/x-python",
   "name": "python",
   "nbconvert_exporter": "python",
   "pygments_lexer": "ipython3",
   "version": "3.6.8"
  }
 },
 "nbformat": 4,
 "nbformat_minor": 2
}
