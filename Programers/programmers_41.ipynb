{
 "cells": [
  {
   "cell_type": "code",
   "execution_count": 1,
   "metadata": {},
   "outputs": [],
   "source": [
    "#숫자의 표현\n",
    "def solution(n):\n",
    "    answer = 0\n",
    "    li = []\n",
    "    \n",
    "    for i in range(1,n+1):\n",
    "        li.append(i)\n",
    "        \n",
    "    for i in range(len(li)):\n",
    "        for j in range(i+1, len(li)):\n",
    "            if sum(li[i:j]) > n:\n",
    "                break\n",
    "            elif sum(li[i:j]) == n:\n",
    "                answer += 1\n",
    "    \n",
    "    return answer+1"
   ]
  },
  {
   "cell_type": "code",
   "execution_count": 2,
   "metadata": {},
   "outputs": [
    {
     "name": "stdout",
     "output_type": "stream",
     "text": [
      "4\n"
     ]
    }
   ],
   "source": [
    "print(solution(15))"
   ]
  },
  {
   "cell_type": "code",
   "execution_count": null,
   "metadata": {},
   "outputs": [],
   "source": []
  }
 ],
 "metadata": {
  "kernelspec": {
   "display_name": "Python 3",
   "language": "python",
   "name": "python3"
  },
  "language_info": {
   "codemirror_mode": {
    "name": "ipython",
    "version": 3
   },
   "file_extension": ".py",
   "mimetype": "text/x-python",
   "name": "python",
   "nbconvert_exporter": "python",
   "pygments_lexer": "ipython3",
   "version": "3.6.8"
  }
 },
 "nbformat": 4,
 "nbformat_minor": 2
}
