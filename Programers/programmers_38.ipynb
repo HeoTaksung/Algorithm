{
 "cells": [
  {
   "cell_type": "code",
   "execution_count": 1,
   "metadata": {},
   "outputs": [],
   "source": [
    "#전화번호 목록\n",
    "def solution(phone_book):\n",
    "    answer = True\n",
    "    li = sorted(phone_book)\n",
    "    \n",
    "    for i in range(len(li)-1):\n",
    "        if li[i] == li[i+1][:len(li[i])]:\n",
    "            answer = False\n",
    "            break\n",
    "                \n",
    "    return answer"
   ]
  },
  {
   "cell_type": "code",
   "execution_count": 2,
   "metadata": {},
   "outputs": [
    {
     "name": "stdout",
     "output_type": "stream",
     "text": [
      "False\n",
      "True\n",
      "False\n"
     ]
    }
   ],
   "source": [
    "print(solution([\"119\", \"97674223\", \"1195524421\"]))\n",
    "print(solution([\"123\",\"456\",\"789\"]))\n",
    "print(solution([\"12\",\"123\",\"1235\",\"567\",\"88\"]))"
   ]
  },
  {
   "cell_type": "code",
   "execution_count": null,
   "metadata": {},
   "outputs": [],
   "source": []
  }
 ],
 "metadata": {
  "kernelspec": {
   "display_name": "Python 3",
   "language": "python",
   "name": "python3"
  },
  "language_info": {
   "codemirror_mode": {
    "name": "ipython",
    "version": 3
   },
   "file_extension": ".py",
   "mimetype": "text/x-python",
   "name": "python",
   "nbconvert_exporter": "python",
   "pygments_lexer": "ipython3",
   "version": "3.6.8"
  }
 },
 "nbformat": 4,
 "nbformat_minor": 2
}
