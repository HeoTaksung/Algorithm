{
 "cells": [
  {
   "cell_type": "code",
   "execution_count": 1,
   "metadata": {},
   "outputs": [],
   "source": [
    "#다음 큰 숫자\n",
    "def solution(n):\n",
    "    n_bin = bin(n)\n",
    "    n_count = 0\n",
    "    \n",
    "    for i in range(len(n_bin)):\n",
    "        if n_bin[i] == '1':\n",
    "            n_count += 1\n",
    "    new = n\n",
    "    \n",
    "    while True:\n",
    "        new += 1\n",
    "        new_bin = bin(new)\n",
    "        new_count = 0\n",
    "        \n",
    "        for i in range(len(new_bin)):\n",
    "            if new_bin[i] == \"1\":\n",
    "                new_count += 1\n",
    "        \n",
    "        if new_count == n_count:\n",
    "            return new"
   ]
  },
  {
   "cell_type": "code",
   "execution_count": 2,
   "metadata": {},
   "outputs": [
    {
     "name": "stdout",
     "output_type": "stream",
     "text": [
      "83\n",
      "23\n"
     ]
    }
   ],
   "source": [
    "print(solution(78))\n",
    "print(solution(15))"
   ]
  },
  {
   "cell_type": "code",
   "execution_count": null,
   "metadata": {},
   "outputs": [],
   "source": []
  }
 ],
 "metadata": {
  "kernelspec": {
   "display_name": "Python 3",
   "language": "python",
   "name": "python3"
  },
  "language_info": {
   "codemirror_mode": {
    "name": "ipython",
    "version": 3
   },
   "file_extension": ".py",
   "mimetype": "text/x-python",
   "name": "python",
   "nbconvert_exporter": "python",
   "pygments_lexer": "ipython3",
   "version": "3.6.8"
  }
 },
 "nbformat": 4,
 "nbformat_minor": 2
}
