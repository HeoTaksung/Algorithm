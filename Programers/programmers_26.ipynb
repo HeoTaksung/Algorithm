{
 "cells": [
  {
   "cell_type": "code",
   "execution_count": 1,
   "metadata": {},
   "outputs": [],
   "source": [
    "#모의고사\n",
    "def solution(answers):\n",
    "    answer = [0, 0, 0]\n",
    "    \n",
    "    stu1 = [1,2,3,4,5]\n",
    "    stu2 = [2,1,2,3,2,4,2,5]\n",
    "    stu3 = [3,3,1,1,2,2,4,4,5,5]\n",
    "\n",
    "    for i in range(len(answers)):\n",
    "        if answers[i] == stu1[i%len(stu1)]:\n",
    "            answer[0] += 1\n",
    "        if answers[i] == stu2[i%len(stu2)]:\n",
    "            answer[1] += 1\n",
    "        if answers[i] == stu3[i%len(stu3)]:\n",
    "            answer[2] += 1\n",
    "    \n",
    "    final = []\n",
    "    \n",
    "    for i in range(len(answer)):\n",
    "        if max(answer) == answer[i]:\n",
    "            final.append(i+1)\n",
    "    \n",
    "    return final"
   ]
  },
  {
   "cell_type": "code",
   "execution_count": 2,
   "metadata": {},
   "outputs": [
    {
     "name": "stdout",
     "output_type": "stream",
     "text": [
      "[1]\n",
      "[1, 2, 3]\n"
     ]
    }
   ],
   "source": [
    "print(solution([1,2,3,4,5]))\n",
    "print(solution([1,3,2,4,2]))"
   ]
  },
  {
   "cell_type": "code",
   "execution_count": null,
   "metadata": {},
   "outputs": [],
   "source": []
  }
 ],
 "metadata": {
  "kernelspec": {
   "display_name": "Python 3",
   "language": "python",
   "name": "python3"
  },
  "language_info": {
   "codemirror_mode": {
    "name": "ipython",
    "version": 3
   },
   "file_extension": ".py",
   "mimetype": "text/x-python",
   "name": "python",
   "nbconvert_exporter": "python",
   "pygments_lexer": "ipython3",
   "version": "3.6.8"
  }
 },
 "nbformat": 4,
 "nbformat_minor": 2
}
