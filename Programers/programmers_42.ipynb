{
 "cells": [
  {
   "cell_type": "code",
   "execution_count": 1,
   "metadata": {},
   "outputs": [],
   "source": [
    "#최댓값과 최솟값\n",
    "def solution(s):\n",
    "    li = s.split()\n",
    "    for i in range(len(li)):\n",
    "        li[i] = int(li[i])\n",
    "    answer = str(min(li))+ ' ' + str(max(li))\n",
    "    return answer"
   ]
  },
  {
   "cell_type": "code",
   "execution_count": 2,
   "metadata": {},
   "outputs": [
    {
     "name": "stdout",
     "output_type": "stream",
     "text": [
      "2 4\n",
      "-4 -1\n",
      "-1 -1\n"
     ]
    }
   ],
   "source": [
    "print(solution(\"2 3 4\"))\n",
    "print(solution(\"-1 -2 -3 -4\"))\n",
    "print(solution(\"-1 -1\"))"
   ]
  },
  {
   "cell_type": "code",
   "execution_count": null,
   "metadata": {},
   "outputs": [],
   "source": []
  }
 ],
 "metadata": {
  "kernelspec": {
   "display_name": "Python 3",
   "language": "python",
   "name": "python3"
  },
  "language_info": {
   "codemirror_mode": {
    "name": "ipython",
    "version": 3
   },
   "file_extension": ".py",
   "mimetype": "text/x-python",
   "name": "python",
   "nbconvert_exporter": "python",
   "pygments_lexer": "ipython3",
   "version": "3.6.8"
  }
 },
 "nbformat": 4,
 "nbformat_minor": 2
}
