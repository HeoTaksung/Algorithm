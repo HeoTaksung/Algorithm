{
 "cells": [
  {
   "cell_type": "code",
   "execution_count": 1,
   "metadata": {},
   "outputs": [],
   "source": [
    "#[1차] 다트게임\n",
    "def solution(dartResult):\n",
    "    answer = 0\n",
    "    number_list = []\n",
    "    index = -1\n",
    "    for i in range(len(dartResult)):\n",
    "        if dartResult[i] >= '0' and dartResult[i] <= '9':\n",
    "            if dartResult[i] == '1' and dartResult[i+1] == '0':\n",
    "                number = 10\n",
    "                continue\n",
    "            elif dartResult[i-1] == '1' and dartResult[i] == '0':\n",
    "                continue\n",
    "            else:\n",
    "                number = int(dartResult[i])\n",
    "        elif dartResult[i] == 'S':\n",
    "            index += 1\n",
    "            number_list.append(number)\n",
    "        elif dartResult[i] == 'D':\n",
    "            index += 1\n",
    "            number_list.append(number**2)\n",
    "        elif dartResult[i] == 'T':\n",
    "            index += 1\n",
    "            number_list.append(number**3)\n",
    "        elif dartResult[i] == '*':\n",
    "            if index == 0:\n",
    "                number_list[index] = number_list[index]*2\n",
    "            else:\n",
    "                number_list[index] = number_list[index]*2\n",
    "                number_list[index-1] = number_list[index-1]*2\n",
    "        elif dartResult[i] == '#':\n",
    "            number_list[index] = number_list[index]*-1\n",
    "\n",
    "    answer = sum(number_list)\n",
    "    \n",
    "    return answer"
   ]
  },
  {
   "cell_type": "code",
   "execution_count": 2,
   "metadata": {},
   "outputs": [
    {
     "name": "stdout",
     "output_type": "stream",
     "text": [
      "37\n",
      "9\n",
      "3\n",
      "23\n",
      "5\n",
      "-4\n",
      "59\n"
     ]
    }
   ],
   "source": [
    "print(solution(\"1S2D*3T\"))\n",
    "print(solution(\"1D2S#10S\"))\n",
    "print(solution(\"1D2S0T\"))\n",
    "print(solution(\"1S*2T*3S\"))\n",
    "print(solution(\"1D#2S*3S\"))\n",
    "print(solution(\"1T2D3D#\"))\n",
    "print(solution(\"1D2S3T*\"))"
   ]
  },
  {
   "cell_type": "code",
   "execution_count": null,
   "metadata": {},
   "outputs": [],
   "source": []
  }
 ],
 "metadata": {
  "kernelspec": {
   "display_name": "Python 3",
   "language": "python",
   "name": "python3"
  },
  "language_info": {
   "codemirror_mode": {
    "name": "ipython",
    "version": 3
   },
   "file_extension": ".py",
   "mimetype": "text/x-python",
   "name": "python",
   "nbconvert_exporter": "python",
   "pygments_lexer": "ipython3",
   "version": "3.6.8"
  }
 },
 "nbformat": 4,
 "nbformat_minor": 2
}
