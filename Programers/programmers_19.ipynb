{
 "cells": [
  {
   "cell_type": "code",
   "execution_count": 1,
   "metadata": {},
   "outputs": [],
   "source": [
    "#문자열 내 마음대로 정렬하기\n",
    "def solution(strings, n):\n",
    "    answer = []\n",
    "    etc = []\n",
    "    \n",
    "    for i in strings:\n",
    "        etc.append(i[n])\n",
    "    \n",
    "    etc = sorted(etc)\n",
    "    strings = sorted(strings)\n",
    "    \n",
    "    for i in range(len(etc)):\n",
    "        for j in range(len(strings)):\n",
    "            if etc[i] == strings[j][n]:\n",
    "                answer.append(strings[j])\n",
    "                strings[j] = \" \"*(n+1)\n",
    "\n",
    "    return answer"
   ]
  },
  {
   "cell_type": "code",
   "execution_count": 2,
   "metadata": {},
   "outputs": [
    {
     "name": "stdout",
     "output_type": "stream",
     "text": [
      "['car', 'bed', 'sun']\n",
      "['abcd', 'abce', 'cdx']\n"
     ]
    }
   ],
   "source": [
    "print(solution([\"sun\", \"bed\", \"car\"], 1))\n",
    "print(solution([\"abce\", \"abcd\", \"cdx\"], 2))"
   ]
  },
  {
   "cell_type": "code",
   "execution_count": null,
   "metadata": {},
   "outputs": [],
   "source": []
  }
 ],
 "metadata": {
  "kernelspec": {
   "display_name": "Python 3",
   "language": "python",
   "name": "python3"
  },
  "language_info": {
   "codemirror_mode": {
    "name": "ipython",
    "version": 3
   },
   "file_extension": ".py",
   "mimetype": "text/x-python",
   "name": "python",
   "nbconvert_exporter": "python",
   "pygments_lexer": "ipython3",
   "version": "3.6.8"
  }
 },
 "nbformat": 4,
 "nbformat_minor": 2
}
