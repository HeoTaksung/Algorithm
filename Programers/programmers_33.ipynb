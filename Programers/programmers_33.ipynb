{
 "cells": [
  {
   "cell_type": "code",
   "execution_count": 1,
   "metadata": {},
   "outputs": [],
   "source": [
    "#콜라츠 추측\n",
    "def solution(num):\n",
    "    answer = 0\n",
    "    while True:\n",
    "        if num == 1:\n",
    "            return answer\n",
    "        if answer == 500:\n",
    "            return -1\n",
    "        if num % 2 == 0:\n",
    "            num = num / 2\n",
    "            answer += 1\n",
    "        elif num % 2 == 1:\n",
    "            num = num*3 + 1\n",
    "            answer += 1"
   ]
  },
  {
   "cell_type": "code",
   "execution_count": 2,
   "metadata": {},
   "outputs": [
    {
     "name": "stdout",
     "output_type": "stream",
     "text": [
      "8\n",
      "4\n",
      "-1\n"
     ]
    }
   ],
   "source": [
    "print(solution(6))\n",
    "print(solution(16))\n",
    "print(solution(626331))"
   ]
  },
  {
   "cell_type": "code",
   "execution_count": null,
   "metadata": {},
   "outputs": [],
   "source": []
  }
 ],
 "metadata": {
  "kernelspec": {
   "display_name": "Python 3",
   "language": "python",
   "name": "python3"
  },
  "language_info": {
   "codemirror_mode": {
    "name": "ipython",
    "version": 3
   },
   "file_extension": ".py",
   "mimetype": "text/x-python",
   "name": "python",
   "nbconvert_exporter": "python",
   "pygments_lexer": "ipython3",
   "version": "3.6.8"
  }
 },
 "nbformat": 4,
 "nbformat_minor": 2
}
