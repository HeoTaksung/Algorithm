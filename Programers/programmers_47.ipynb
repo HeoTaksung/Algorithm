{
 "cells": [
  {
   "cell_type": "code",
   "execution_count": 1,
   "metadata": {},
   "outputs": [],
   "source": [
    "#가사 검색\n",
    "from collections import defaultdict\n",
    "class Node(object):\n",
    "\n",
    "    def __init__(self, key, data=None):\n",
    "        self.key = key\n",
    "        self.data = data\n",
    "        self.children = {}\n",
    "        self.length = defaultdict(int)\n",
    "\n",
    "class Trie(object):\n",
    "    def __init__(self):\n",
    "        self.head = Node(None)\n",
    "        \n",
    "    def insert(self, string):\n",
    "        curr_node = self.head\n",
    "        curr_node.length[len(string)] += 1\n",
    "        \n",
    "        for char in string:\n",
    "            if char not in curr_node.children:\n",
    "                curr_node.children[char] = Node(char)\n",
    "            \n",
    "            curr_node.children[char].length[len(string)] += 1\n",
    "            curr_node = curr_node.children[char]\n",
    "\n",
    "        curr_node.data = string\n",
    "    \n",
    "\n",
    "    def starts_with(self, prefix, string):\n",
    "        curr_node = self.head\n",
    "        \n",
    "        for char in prefix:\n",
    "            if char in curr_node.children:\n",
    "                curr_node = curr_node.children[char]\n",
    "            else:\n",
    "                return 0\n",
    "\n",
    "        return curr_node.length[len(string)]"
   ]
  },
  {
   "cell_type": "code",
   "execution_count": 2,
   "metadata": {},
   "outputs": [],
   "source": [
    "def solution(words, queries):\n",
    "    answer = []\n",
    "    start_trie = Trie()\n",
    "    end_trie = Trie()\n",
    "    \n",
    "    for word in words:\n",
    "        start_trie.insert(word)\n",
    "        end_trie.insert(word[::-1])\n",
    "        \n",
    "    for queri in queries:\n",
    "        q_word = queri.split('?')\n",
    "        count = 0\n",
    "        if q_word[0] != '':\n",
    "            answer.append(start_trie.starts_with(q_word[0], queri))\n",
    "        else:\n",
    "            q_word = queri[::-1].split('?')\n",
    "            answer.append(end_trie.starts_with(q_word[0], queri))\n",
    "\n",
    "    return answer"
   ]
  },
  {
   "cell_type": "code",
   "execution_count": 3,
   "metadata": {},
   "outputs": [
    {
     "name": "stdout",
     "output_type": "stream",
     "text": [
      "[3, 2, 4, 1, 0]\n"
     ]
    }
   ],
   "source": [
    "print(solution([\"frodo\", \"front\", \"frost\", \"frozen\", \"frame\", \"kakao\"], [\"fro??\", \"????o\", \"fr???\", \"fro???\", \"pro?\"]))"
   ]
  },
  {
   "cell_type": "code",
   "execution_count": null,
   "metadata": {},
   "outputs": [],
   "source": []
  }
 ],
 "metadata": {
  "kernelspec": {
   "display_name": "Python 3",
   "language": "python",
   "name": "python3"
  },
  "language_info": {
   "codemirror_mode": {
    "name": "ipython",
    "version": 3
   },
   "file_extension": ".py",
   "mimetype": "text/x-python",
   "name": "python",
   "nbconvert_exporter": "python",
   "pygments_lexer": "ipython3",
   "version": "3.6.8"
  }
 },
 "nbformat": 4,
 "nbformat_minor": 2
}
