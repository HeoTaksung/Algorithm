{
 "cells": [
  {
   "cell_type": "code",
   "execution_count": 1,
   "metadata": {},
   "outputs": [],
   "source": [
    "#가장 큰 수\n",
    "def solution(numbers):\n",
    "    answer = ''\n",
    "    \n",
    "    numbers_12 = []\n",
    "    \n",
    "    for i in numbers:\n",
    "        numbers_12.append(i)\n",
    "        \n",
    "    for i in range(len(numbers_12)):\n",
    "        if numbers_12[i] < 10:\n",
    "            numbers_12[i] = [str(numbers_12[i])*12, i]\n",
    "        elif numbers_12[i] < 100:\n",
    "            numbers_12[i] = [str(numbers_12[i])*6, i]\n",
    "        elif numbers_12[i] < 1000:\n",
    "            numbers_12[i] = [str(numbers_12[i])*3, i]\n",
    "        else:\n",
    "            numbers_12[i] = [str(numbers_12[i]), i]\n",
    "\n",
    "    sort_number = sorted(numbers_12)\n",
    "    sort_number.reverse()\n",
    "    \n",
    "    if sort_number[0][0][0] == \"0\":\n",
    "        return \"0\"\n",
    "    \n",
    "    for i in range(len(sort_number)):\n",
    "        answer += str(numbers[sort_number[i][1]])\n",
    "\n",
    "    return answer"
   ]
  },
  {
   "cell_type": "code",
   "execution_count": 2,
   "metadata": {},
   "outputs": [
    {
     "name": "stdout",
     "output_type": "stream",
     "text": [
      "6210\n",
      "9534330\n"
     ]
    }
   ],
   "source": [
    "print(solution([6, 10, 2]))\n",
    "print(solution([3, 30, 34, 5, 9]))"
   ]
  },
  {
   "cell_type": "code",
   "execution_count": null,
   "metadata": {},
   "outputs": [],
   "source": []
  }
 ],
 "metadata": {
  "kernelspec": {
   "display_name": "Python 3",
   "language": "python",
   "name": "python3"
  },
  "language_info": {
   "codemirror_mode": {
    "name": "ipython",
    "version": 3
   },
   "file_extension": ".py",
   "mimetype": "text/x-python",
   "name": "python",
   "nbconvert_exporter": "python",
   "pygments_lexer": "ipython3",
   "version": "3.6.8"
  }
 },
 "nbformat": 4,
 "nbformat_minor": 2
}
