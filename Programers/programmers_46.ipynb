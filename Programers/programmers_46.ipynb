{
 "cells": [
  {
   "cell_type": "code",
   "execution_count": 1,
   "metadata": {},
   "outputs": [],
   "source": [
    "#완주하지 못한 선수\n",
    "def solution(participant, completion):\n",
    "    p = sorted(participant)\n",
    "    c = sorted(completion)\n",
    "\n",
    "    for i in range(len(c)):\n",
    "        if c[i] != p[i]:\n",
    "            if c[i] == p[i+1]:\n",
    "                return p[i]\n",
    "        if i == len(c)-1:\n",
    "            return p[i+1]"
   ]
  },
  {
   "cell_type": "code",
   "execution_count": 2,
   "metadata": {},
   "outputs": [
    {
     "name": "stdout",
     "output_type": "stream",
     "text": [
      "leo\n",
      "vinko\n",
      "mislav\n"
     ]
    }
   ],
   "source": [
    "print(solution([\"leo\", \"kiki\", \"eden\"], [\"eden\", \"kiki\"]))\n",
    "print(solution([\"marina\", \"josipa\", \"nikola\", \"vinko\", \"filipa\"], [\"josipa\", \"filipa\", \"marina\", \"nikola\"]))\n",
    "print(solution([\"mislav\", \"stanko\", \"mislav\", \"ana\"], [\"stanko\", \"ana\", \"mislav\"]))"
   ]
  },
  {
   "cell_type": "code",
   "execution_count": null,
   "metadata": {},
   "outputs": [],
   "source": []
  }
 ],
 "metadata": {
  "kernelspec": {
   "display_name": "Python 3",
   "language": "python",
   "name": "python3"
  },
  "language_info": {
   "codemirror_mode": {
    "name": "ipython",
    "version": 3
   },
   "file_extension": ".py",
   "mimetype": "text/x-python",
   "name": "python",
   "nbconvert_exporter": "python",
   "pygments_lexer": "ipython3",
   "version": "3.6.8"
  }
 },
 "nbformat": 4,
 "nbformat_minor": 2
}
