{
 "cells": [
  {
   "cell_type": "code",
   "execution_count": 1,
   "metadata": {},
   "outputs": [],
   "source": [
    "#더 맵게\n",
    "def solution(scoville, K):\n",
    "    import heapq\n",
    "    \n",
    "    answer = 0\n",
    "    \n",
    "    min_heap = []\n",
    "    \n",
    "    for i in scoville:\n",
    "        heapq.heappush(min_heap, i)\n",
    "    \n",
    "    while K > min_heap[0]:\n",
    "        if len(min_heap) == 1:\n",
    "            return -1\n",
    "        \n",
    "        heapq.heappush(min_heap, heapq.heappop(min_heap) + heapq.heappop(min_heap)*2)\n",
    "        answer += 1\n",
    "        \n",
    "    return answer"
   ]
  },
  {
   "cell_type": "code",
   "execution_count": 2,
   "metadata": {},
   "outputs": [
    {
     "name": "stdout",
     "output_type": "stream",
     "text": [
      "2\n"
     ]
    }
   ],
   "source": [
    "print(solution([1, 2, 3, 9, 10, 12], 7))"
   ]
  },
  {
   "cell_type": "code",
   "execution_count": null,
   "metadata": {},
   "outputs": [],
   "source": []
  }
 ],
 "metadata": {
  "kernelspec": {
   "display_name": "Python 3",
   "language": "python",
   "name": "python3"
  },
  "language_info": {
   "codemirror_mode": {
    "name": "ipython",
    "version": 3
   },
   "file_extension": ".py",
   "mimetype": "text/x-python",
   "name": "python",
   "nbconvert_exporter": "python",
   "pygments_lexer": "ipython3",
   "version": "3.6.8"
  }
 },
 "nbformat": 4,
 "nbformat_minor": 2
}
