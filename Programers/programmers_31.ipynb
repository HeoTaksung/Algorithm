{
 "cells": [
  {
   "cell_type": "code",
   "execution_count": 1,
   "metadata": {},
   "outputs": [],
   "source": [
    "#[1차] 비밀지도\n",
    "def solution(n, arr1, arr2):\n",
    "    answer = []\n",
    "    \n",
    "    for i in range(n):\n",
    "        output = bin(arr1[i] | arr2[i])\n",
    "        output = output[2:]\n",
    "        output_len = n-len(output)\n",
    "        \n",
    "        s = ''\n",
    "        if len(output) != n:\n",
    "            s += ' '*output_len\n",
    "            \n",
    "        for i in output:\n",
    "            if i == \"0\":\n",
    "                s += ' '\n",
    "            else:\n",
    "                s += '#'\n",
    "        answer.append(s)\n",
    "        \n",
    "    return answer"
   ]
  },
  {
   "cell_type": "code",
   "execution_count": 2,
   "metadata": {},
   "outputs": [
    {
     "name": "stdout",
     "output_type": "stream",
     "text": [
      "['#####', '# # #', '### #', '#  ##', '#####']\n",
      "['######', '###  #', '##  ##', ' #### ', ' #####', '### # ']\n"
     ]
    }
   ],
   "source": [
    "print(solution(5, [9,20,28,18,11], [30,1,21,17,28]))\n",
    "print(solution(6, [46,33,33,22,31,50], [27,56,19,14,14,10]))"
   ]
  },
  {
   "cell_type": "code",
   "execution_count": null,
   "metadata": {},
   "outputs": [],
   "source": []
  }
 ],
 "metadata": {
  "kernelspec": {
   "display_name": "Python 3",
   "language": "python",
   "name": "python3"
  },
  "language_info": {
   "codemirror_mode": {
    "name": "ipython",
    "version": 3
   },
   "file_extension": ".py",
   "mimetype": "text/x-python",
   "name": "python",
   "nbconvert_exporter": "python",
   "pygments_lexer": "ipython3",
   "version": "3.6.8"
  }
 },
 "nbformat": 4,
 "nbformat_minor": 2
}
